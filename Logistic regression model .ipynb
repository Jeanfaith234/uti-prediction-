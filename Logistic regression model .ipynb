{
 "cells": [
  {
   "cell_type": "code",
   "execution_count": 1,
   "metadata": {},
   "outputs": [],
   "source": [
    "import numpy as np\n",
    "import pandas as pd\n",
    "import matplotlib.pyplot as plt\n",
    "import seaborn as sns\n"
   ]
  },
  {
   "cell_type": "code",
   "execution_count": 30,
   "metadata": {},
   "outputs": [],
   "source": [
    "from sklearn.preprocessing import OneHotEncoder\n",
    "from sklearn.preprocessing import LabelEncoder\n",
    "from sklearn.preprocessing import StandardScaler\n",
    "from sklearn.linear_model import LogisticRegression\n",
    "from sklearn.pipeline import Pipeline\n",
    "from sklearn.compose import ColumnTransformer\n",
    "from sklearn.linear_model import LogisticRegression\n",
    "from sklearn.ensemble import ExtraTreesRegressor\n",
    "from sklearn.model_selection import train_test_split\n",
    "import sklearn.metrics as metrics\n",
    "from sklearn import svm\n",
    "\n",
    "import joblib\n",
    "import pickle"
   ]
  },
  {
   "cell_type": "code",
   "execution_count": 17,
   "metadata": {},
   "outputs": [
    {
     "data": {
      "text/html": [
       "<div>\n",
       "<style scoped>\n",
       "    .dataframe tbody tr th:only-of-type {\n",
       "        vertical-align: middle;\n",
       "    }\n",
       "\n",
       "    .dataframe tbody tr th {\n",
       "        vertical-align: top;\n",
       "    }\n",
       "\n",
       "    .dataframe thead th {\n",
       "        text-align: right;\n",
       "    }\n",
       "</style>\n",
       "<table border=\"1\" class=\"dataframe\">\n",
       "  <thead>\n",
       "    <tr style=\"text-align: right;\">\n",
       "      <th></th>\n",
       "      <th>Age</th>\n",
       "      <th>Sex</th>\n",
       "      <th>Marital Status</th>\n",
       "      <th>Poverty Level</th>\n",
       "      <th>Prison History</th>\n",
       "      <th>Completed Secondary Education</th>\n",
       "      <th>History of Tobacco Use</th>\n",
       "      <th>Alcohol Use at Least Once Per Week</th>\n",
       "      <th>History of Drug Use</th>\n",
       "      <th>History of Rehab</th>\n",
       "      <th>MDR-TB</th>\n",
       "      <th>Body Mass Index</th>\n",
       "      <th>History of Chronic Disease</th>\n",
       "      <th>HIV Status</th>\n",
       "      <th>History Diabetes Melitus</th>\n",
       "      <th>Treatment Outcome</th>\n",
       "    </tr>\n",
       "  </thead>\n",
       "  <tbody>\n",
       "    <tr>\n",
       "      <th>0</th>\n",
       "      <td>38 and older</td>\n",
       "      <td>Male</td>\n",
       "      <td>Single</td>\n",
       "      <td>Not in poverty</td>\n",
       "      <td>No</td>\n",
       "      <td>Yes</td>\n",
       "      <td>Used to smoke</td>\n",
       "      <td>Yes</td>\n",
       "      <td>No</td>\n",
       "      <td>No</td>\n",
       "      <td>No</td>\n",
       "      <td>Underweight</td>\n",
       "      <td>No</td>\n",
       "      <td>Negative</td>\n",
       "      <td>No</td>\n",
       "      <td>Cured</td>\n",
       "    </tr>\n",
       "    <tr>\n",
       "      <th>1</th>\n",
       "      <td>38 and older</td>\n",
       "      <td>Male</td>\n",
       "      <td>Married/cohabitating</td>\n",
       "      <td>Not in poverty</td>\n",
       "      <td>No</td>\n",
       "      <td>Yes</td>\n",
       "      <td>Never smoked</td>\n",
       "      <td>No</td>\n",
       "      <td>No</td>\n",
       "      <td>No</td>\n",
       "      <td>No</td>\n",
       "      <td>Normal</td>\n",
       "      <td>No</td>\n",
       "      <td>Negative</td>\n",
       "      <td>No</td>\n",
       "      <td>Cured</td>\n",
       "    </tr>\n",
       "    <tr>\n",
       "      <th>2</th>\n",
       "      <td>27 to 37</td>\n",
       "      <td>Male</td>\n",
       "      <td>Married/cohabitating</td>\n",
       "      <td>Not in poverty</td>\n",
       "      <td>No</td>\n",
       "      <td>No</td>\n",
       "      <td>Never smoked</td>\n",
       "      <td>Yes</td>\n",
       "      <td>Yes</td>\n",
       "      <td>Yes</td>\n",
       "      <td>No</td>\n",
       "      <td>Underweight</td>\n",
       "      <td>No</td>\n",
       "      <td>Negative</td>\n",
       "      <td>No</td>\n",
       "      <td>Cured</td>\n",
       "    </tr>\n",
       "    <tr>\n",
       "      <th>3</th>\n",
       "      <td>27 to 37</td>\n",
       "      <td>Male</td>\n",
       "      <td>Married/cohabitating</td>\n",
       "      <td>Poverty/extreme poverty</td>\n",
       "      <td>No</td>\n",
       "      <td>No</td>\n",
       "      <td>Never smoked</td>\n",
       "      <td>Yes</td>\n",
       "      <td>No</td>\n",
       "      <td>No</td>\n",
       "      <td>No</td>\n",
       "      <td>Normal</td>\n",
       "      <td>No</td>\n",
       "      <td>Negative</td>\n",
       "      <td>No</td>\n",
       "      <td>Cured</td>\n",
       "    </tr>\n",
       "    <tr>\n",
       "      <th>4</th>\n",
       "      <td>27 to 37</td>\n",
       "      <td>Male</td>\n",
       "      <td>Married/cohabitating</td>\n",
       "      <td>Not in poverty</td>\n",
       "      <td>No</td>\n",
       "      <td>Yes</td>\n",
       "      <td>Used to smoke</td>\n",
       "      <td>Yes</td>\n",
       "      <td>Yes</td>\n",
       "      <td>No</td>\n",
       "      <td>No</td>\n",
       "      <td>Normal</td>\n",
       "      <td>No</td>\n",
       "      <td>Negative</td>\n",
       "      <td>No</td>\n",
       "      <td>Cured</td>\n",
       "    </tr>\n",
       "  </tbody>\n",
       "</table>\n",
       "</div>"
      ],
      "text/plain": [
       "            Age   Sex        Marital Status            Poverty Level  \\\n",
       "0  38 and older  Male                Single           Not in poverty   \n",
       "1  38 and older  Male  Married/cohabitating           Not in poverty   \n",
       "2      27 to 37  Male  Married/cohabitating           Not in poverty   \n",
       "3      27 to 37  Male  Married/cohabitating  Poverty/extreme poverty   \n",
       "4      27 to 37  Male  Married/cohabitating           Not in poverty   \n",
       "\n",
       "  Prison History Completed Secondary Education History of Tobacco Use  \\\n",
       "0             No                           Yes          Used to smoke   \n",
       "1             No                           Yes           Never smoked   \n",
       "2             No                            No           Never smoked   \n",
       "3             No                            No           Never smoked   \n",
       "4             No                           Yes          Used to smoke   \n",
       "\n",
       "  Alcohol Use at Least Once Per Week History of Drug Use History of Rehab  \\\n",
       "0                                Yes                  No               No   \n",
       "1                                 No                  No               No   \n",
       "2                                Yes                 Yes              Yes   \n",
       "3                                Yes                  No               No   \n",
       "4                                Yes                 Yes               No   \n",
       "\n",
       "  MDR-TB Body Mass Index History of Chronic Disease HIV Status  \\\n",
       "0     No     Underweight                         No   Negative   \n",
       "1     No          Normal                         No   Negative   \n",
       "2     No     Underweight                         No   Negative   \n",
       "3     No          Normal                         No   Negative   \n",
       "4     No          Normal                         No   Negative   \n",
       "\n",
       "  History Diabetes Melitus Treatment Outcome  \n",
       "0                       No             Cured  \n",
       "1                       No             Cured  \n",
       "2                       No             Cured  \n",
       "3                       No             Cured  \n",
       "4                       No             Cured  "
      ]
     },
     "execution_count": 17,
     "metadata": {},
     "output_type": "execute_result"
    }
   ],
   "source": [
    "df = pd.read_csv(\"cleaned.csv\")\n",
    "df.head()"
   ]
  },
  {
   "cell_type": "code",
   "execution_count": 12,
   "metadata": {},
   "outputs": [
    {
     "data": {
      "text/plain": [
       "Unnamed: 0                            0\n",
       "Age                                   0\n",
       "Sex                                   0\n",
       "Marital Status                        0\n",
       "Poverty Level                         0\n",
       "Prison History                        0\n",
       "Completed Secondary Education         0\n",
       "History of Tobacco Use                0\n",
       "Alcohol Use at Least Once Per Week    0\n",
       "History of Drug Use                   0\n",
       "History of Rehab                      0\n",
       "MDR-TB                                0\n",
       "Body Mass Index                       0\n",
       "History of Chronic Disease            0\n",
       "HIV Status                            0\n",
       "History Diabetes Melitus              0\n",
       "Treatment Outcome                     0\n",
       "dtype: int64"
      ]
     },
     "execution_count": 12,
     "metadata": {},
     "output_type": "execute_result"
    }
   ],
   "source": [
    "df.isnull().sum()"
   ]
  },
  {
   "cell_type": "code",
   "execution_count": 18,
   "metadata": {},
   "outputs": [
    {
     "data": {
      "text/plain": [
       "['Age',\n",
       " 'Sex',\n",
       " 'Marital Status',\n",
       " 'Poverty Level',\n",
       " 'Prison History',\n",
       " 'Completed Secondary Education',\n",
       " 'History of Tobacco Use',\n",
       " 'Alcohol Use at Least Once Per Week',\n",
       " 'History of Drug Use',\n",
       " 'History of Rehab',\n",
       " 'MDR-TB',\n",
       " 'Body Mass Index',\n",
       " 'History of Chronic Disease',\n",
       " 'HIV Status',\n",
       " 'History Diabetes Melitus',\n",
       " 'Treatment Outcome']"
      ]
     },
     "execution_count": 18,
     "metadata": {},
     "output_type": "execute_result"
    }
   ],
   "source": [
    "column = list(df.columns)\n",
    "column "
   ]
  },
  {
   "cell_type": "code",
   "execution_count": 20,
   "metadata": {},
   "outputs": [],
   "source": [
    "X = df[[ 'Age',\n",
    " 'Sex',\n",
    " 'Marital Status',\n",
    " 'Poverty Level',\n",
    " 'Prison History',\n",
    " 'Completed Secondary Education',\n",
    " 'History of Tobacco Use',\n",
    " 'Alcohol Use at Least Once Per Week',\n",
    " 'History of Drug Use',\n",
    " 'History of Rehab',\n",
    " 'Body Mass Index',\n",
    " 'History of Chronic Disease',\n",
    " 'HIV Status',\n",
    " 'History Diabetes Melitus',\n",
    " 'Treatment Outcome']]\n",
    "y = df['MDR-TB']"
   ]
  },
  {
   "cell_type": "code",
   "execution_count": 21,
   "metadata": {},
   "outputs": [],
   "source": [
    "X_train,X_test,y_train,y_test=train_test_split(X,y,test_size=0.25,random_state=42)"
   ]
  },
  {
   "cell_type": "code",
   "execution_count": 23,
   "metadata": {},
   "outputs": [],
   "source": [
    "y_train = y_train.replace({'Yes':1, 'No':0})"
   ]
  },
  {
   "cell_type": "code",
   "execution_count": 25,
   "metadata": {},
   "outputs": [
    {
     "name": "stdout",
     "output_type": "stream",
     "text": [
      "<class 'pandas.core.frame.DataFrame'>\n",
      "Int64Index: 1547 entries, 271 to 860\n",
      "Data columns (total 15 columns):\n",
      " #   Column                              Non-Null Count  Dtype \n",
      "---  ------                              --------------  ----- \n",
      " 0   Age                                 1547 non-null   object\n",
      " 1   Sex                                 1547 non-null   object\n",
      " 2   Marital Status                      1547 non-null   object\n",
      " 3   Poverty Level                       1547 non-null   object\n",
      " 4   Prison History                      1547 non-null   object\n",
      " 5   Completed Secondary Education       1547 non-null   object\n",
      " 6   History of Tobacco Use              1547 non-null   object\n",
      " 7   Alcohol Use at Least Once Per Week  1547 non-null   object\n",
      " 8   History of Drug Use                 1547 non-null   object\n",
      " 9   History of Rehab                    1547 non-null   object\n",
      " 10  Body Mass Index                     1547 non-null   object\n",
      " 11  History of Chronic Disease          1547 non-null   object\n",
      " 12  HIV Status                          1547 non-null   object\n",
      " 13  History Diabetes Melitus            1547 non-null   object\n",
      " 14  Treatment Outcome                   1547 non-null   object\n",
      "dtypes: object(15)\n",
      "memory usage: 193.4+ KB\n"
     ]
    }
   ],
   "source": [
    "\n",
    "X_train.info()"
   ]
  },
  {
   "cell_type": "code",
   "execution_count": 26,
   "metadata": {},
   "outputs": [],
   "source": [
    "\n",
    "categorical_features = [ 'Age',\n",
    " 'Sex',\n",
    " 'Marital Status',\n",
    " 'Poverty Level',\n",
    " 'Prison History',\n",
    " 'Completed Secondary Education',\n",
    " 'History of Tobacco Use',\n",
    " 'Alcohol Use at Least Once Per Week',\n",
    " 'History of Drug Use',\n",
    " 'History of Rehab',\n",
    " 'Body Mass Index',\n",
    " 'History of Chronic Disease',\n",
    " 'HIV Status',\n",
    " 'History Diabetes Melitus',\n",
    " 'Treatment Outcome']\n",
    "categorical_transformer = OneHotEncoder(drop='first', sparse=False)\n",
    "\n",
    "preprocessor = ColumnTransformer(transformers=[\n",
    "                                               ('cat', categorical_transformer, categorical_features)])"
   ]
  },
  {
   "cell_type": "code",
   "execution_count": 27,
   "metadata": {},
   "outputs": [],
   "source": [
    "\n",
    "clf = Pipeline(steps=[('preprocessor', preprocessor),\n",
    "                      ('classifier', LogisticRegression(random_state=100))])"
   ]
  },
  {
   "cell_type": "code",
   "execution_count": 28,
   "metadata": {},
   "outputs": [
    {
     "data": {
      "text/plain": [
       "Pipeline(steps=[('preprocessor',\n",
       "                 ColumnTransformer(transformers=[('cat',\n",
       "                                                  OneHotEncoder(drop='first',\n",
       "                                                                sparse=False),\n",
       "                                                  ['Age', 'Sex',\n",
       "                                                   'Marital Status',\n",
       "                                                   'Poverty Level',\n",
       "                                                   'Prison History',\n",
       "                                                   'Completed Secondary '\n",
       "                                                   'Education',\n",
       "                                                   'History of Tobacco Use',\n",
       "                                                   'Alcohol Use at Least Once '\n",
       "                                                   'Per Week',\n",
       "                                                   'History of Drug Use',\n",
       "                                                   'History of Rehab',\n",
       "                                                   'Body Mass Index',\n",
       "                                                   'History of Chronic Disease',\n",
       "                                                   'HIV Status',\n",
       "                                                   'History Diabetes Melitus',\n",
       "                                                   'Treatment Outcome'])])),\n",
       "                ('classifier', LogisticRegression(random_state=100))])"
      ]
     },
     "execution_count": 28,
     "metadata": {},
     "output_type": "execute_result"
    }
   ],
   "source": [
    "clf.fit(X_train, y_train)"
   ]
  },
  {
   "cell_type": "code",
   "execution_count": 31,
   "metadata": {},
   "outputs": [],
   "source": [
    "pickle.dump(clf, open('model.pkl', 'wb'))"
   ]
  },
  {
   "cell_type": "code",
   "execution_count": 32,
   "metadata": {},
   "outputs": [],
   "source": [
    "model = pickle.load(open('model.pkl', 'rb'))"
   ]
  },
  {
   "cell_type": "code",
   "execution_count": 33,
   "metadata": {},
   "outputs": [],
   "source": [
    "prediction = model.predict(X_test)"
   ]
  },
  {
   "cell_type": "code",
   "execution_count": 38,
   "metadata": {},
   "outputs": [],
   "source": [
    "y_test = y_test.replace({'Yes':1, 'No':0})"
   ]
  },
  {
   "cell_type": "code",
   "execution_count": 39,
   "metadata": {},
   "outputs": [
    {
     "name": "stdout",
     "output_type": "stream",
     "text": [
      "[[282   2]\n",
      " [ 20 212]]\n"
     ]
    }
   ],
   "source": [
    "cm = metrics.confusion_matrix(y_test, prediction)\n",
    "print(cm)"
   ]
  },
  {
   "cell_type": "code",
   "execution_count": 41,
   "metadata": {},
   "outputs": [
    {
     "name": "stdout",
     "output_type": "stream",
     "text": [
      "0.9573643410852714\n"
     ]
    }
   ],
   "source": [
    "## Model evaluation\n",
    "#Accuracy score\n",
    "score =model.score(X_test,y_test)\n",
    "print(score)\n",
    "# get predictions on test data\n"
   ]
  },
  {
   "cell_type": "code",
   "execution_count": 42,
   "metadata": {},
   "outputs": [
    {
     "data": {
      "image/png": "[encoded data removed]",
      "text/plain": [
       "<Figure size 648x648 with 2 Axes>"
      ]
     },
     "metadata": {
      "needs_background": "light"
     },
     "output_type": "display_data"
    }
   ],
   "source": [
    "## confusion matrix\n",
    "plt.figure(figsize=(9,9))\n",
    "sns.heatmap(cm, annot=True, linewidths=.5, square = True, cmap = 'Blues_r');\n",
    "plt.ylabel('Actual label');\n",
    "plt.xlabel('Predicted label');\n",
    "all_sample_title = 'Accuracy Score: {0}'.format(score)\n",
    "plt.title(all_sample_title, size = 15);"
   ]
  },
  {
   "cell_type": "code",
   "execution_count": null,
   "metadata": {},
   "outputs": [],
   "source": []
  }
 ],
 "metadata": {
  "kernelspec": {
   "display_name": "Python 3",
   "language": "python",
   "name": "python3"
  },
  "language_info": {
   "codemirror_mode": {
    "name": "ipython",
    "version": 3
   },
   "file_extension": ".py",
   "mimetype": "text/x-python",
   "name": "python",
   "nbconvert_exporter": "python",
   "pygments_lexer": "ipython3",
   "version": "3.8.3"
  }
 },
 "nbformat": 4,
 "nbformat_minor": 4
}
